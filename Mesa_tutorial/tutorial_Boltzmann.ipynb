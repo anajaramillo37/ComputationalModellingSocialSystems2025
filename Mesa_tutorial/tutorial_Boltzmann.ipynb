{
  "cells": [
    {
      "cell_type": "markdown",
      "metadata": {
        "id": "EZMGbatT6UFa"
      },
      "source": [
        "# Introductory Tutorial for Computational Modelling of Social Systems 2025\n",
        "\n",
        "### The Boltzmann Wealth Model"
      ]
    },
    {
      "cell_type": "markdown",
      "metadata": {},
      "source": [
        "This tutorial has been adapted from the Mesa package introductory tutorial [GitHub](https://mesa.readthedocs.io/stable/tutorials/intro_tutorial.html). It has been purposefully simplified by Pavle Savkovic for the context of this course. "
      ]
    },
    {
      "cell_type": "markdown",
      "metadata": {
        "id": "66Tf7zPG6UFe"
      },
      "source": [
        "## Tutorial Description\n",
        "\n",
        "[Mesa](https://github.com/projectmesa/mesa) is a Python framework for [agent-based modeling](https://en.wikipedia.org/wiki/Agent-based_model). This tutorial will assist you in getting started and discover some of the core features of Mesa.  The tutorial starts with the key pieces of a model and then progressively adds functionality.  \n",
        "Mesa has extensive [API documentation](https://mesa.readthedocs.io/en/stable/apis/api_main.html), but we will slowly go through the important objects and methods throughout the excercises, step-by-step.\n",
        "\n",
        "The premise of this tutorial is to create a starter-level model representing agents exchanging money.\n",
        "\n",
        "The table of contents shows each of the items this tutorial covers with the major sections being:\n",
        "\n",
        "- Model Description and Set Up\n",
        "- Building the Basic Model\n",
        "- Adding Space\n",
        "- Collecting Data\n",
        "- AgentSet Functionality\n",
        "- Batch Run\n",
        "- Visualization"
      ]
    },
    {
      "cell_type": "markdown",
      "metadata": {
        "id": "P6oNFsLl6UFf"
      },
      "source": [
        "## Model Description\n",
        "\n",
        "This is a simulated agent-based economy. In an agent-based economy, the behavior of an individual economic agent, such as a consumer or producer, is studied in a market environment.\n",
        "This model is drawn from the field econophysics, specifically a paper prepared by Drăgulescu et al. for additional information on the modeling assumptions used in this model. [Drăgulescu, 2002].\n",
        "\n",
        "The assumption that govern this model are:\n",
        "\n",
        "1. There are some number of agents.\n",
        "2. All agents begin with 1 unit of money.\n",
        "3. At every step of the model, an agent gives 1 unit of money (if they\n",
        "   have it) to some other agent.\n",
        "\n",
        "Even as a starter-level model it yields results that are both interesting and unexpected.\n",
        "\n",
        "Due to its simplicity and intriguing results, we found it to be the best starter model."
      ]
    },
    {
      "cell_type": "markdown",
      "metadata": {
        "id": "wCxN330P6UFh"
      },
      "source": [
        "### Import Dependencies\n",
        "This includes importing of dependencies needed for the tutorial."
      ]
    },
    {
      "cell_type": "markdown",
      "metadata": {},
      "source": [
        "*Python version 3.11 or higher is required*. *Mesa version 3.1 or higher is required*"
      ]
    },
    {
      "cell_type": "code",
      "execution_count": null,
      "metadata": {},
      "outputs": [],
      "source": [
        "!python --version\n",
        "import mesa\n",
        "print(mesa.__version__)\n",
        "import seaborn as sns\n",
        "import numpy as np\n",
        "import pandas as pd"
      ]
    },
    {
      "cell_type": "markdown",
      "metadata": {
        "id": "FfY6xx826UFi"
      },
      "source": [
        "### Create Agent\n",
        "\n",
        "First create the agent. As the tutorial progresses, more functionality will be added to the agent.\n",
        "\n",
        "**Background:** Agents are the individual entities that act in the model. Mesa automatically assigns each agent that is created an integer as a `unique_id.`\n",
        "\n",
        "**Model-specific information:** Agents are the individuals that exchange money, in this case the amount of money an individual agent has is represented as wealth.\n",
        "\n",
        "**Code implementation:** This is done by creating a new class (or object) that extends `mesa.Agent` creating a subclass of  the `Agent` class from mesa. The new class is named `MoneyAgent`. The inherited code of the Mesa agent object can be found in the [mesa repo](https://github.com/projectmesa/mesa/blob/main/mesa/agent.py).\n",
        "\n",
        "The `MoneyAgent` class is created with the following code:"
      ]
    },
    {
      "cell_type": "code",
      "execution_count": null,
      "metadata": {
        "id": "UQsvCaNL6UFi"
      },
      "outputs": [],
      "source": [
        "class MoneyAgent(mesa.Agent):\n",
        "    \"\"\"An agent with fixed initial wealth.\"\"\"\n",
        "\n",
        "    def __init__(self, model):\n",
        "        # Pass the parameters to the parent class.\n",
        "        super().__init__(model)\n",
        "\n",
        "        # Create the agent's variable and set the initial values.\n",
        "        self.wealth = 1"
      ]
    },
    {
      "cell_type": "markdown",
      "metadata": {
        "id": "HOOq1cGN6UFj"
      },
      "source": [
        "### Create Model\n",
        "\n",
        "Next, create the model. This gives us the two basic classes of any Mesa ABM - the agent class (population of agent objects that doing something) and the manager class (a model object that manages the creation, activation, datacollection etc of the agents)\n",
        "\n",
        "**Background:** The model can be visualized as a list containing all the agents. The model creates, holds and manages all the agent objects, specifically in a dictionary. The model activates agents in discrete time steps.\n",
        "\n",
        "**Model-specific information:** When a model is created the number of agents within the model is specified. The model then creates the agents and places them in a set of agents.\n",
        "\n",
        "**Code implementation:** This is done by creating a new class (or object) that extends `mesa.Model` and calls `super().__init__()`, creating a subclass of the `Model` class from mesa. The new class is named `MoneyModel`.  The technical details about the model object can be found in [model module](https://github.com/projectmesa/mesa/blob/main/mesa/model.py) and the AgentSet in the [agent module](https://github.com/projectmesa/mesa/blob/d7a3834c99a3be809abe2edc8b83610f3d4438ba/mesa/agent.py#L86). A critical point is that you can use the `seed` kwarg (keyword argument) to set a seed which controls the random number generator of the model class allowing for the reproducibility of results.\n",
        "\n",
        "The `MoneyModel` class is created with the following code:"
      ]
    },
    {
      "cell_type": "code",
      "execution_count": null,
      "metadata": {
        "id": "m2rwvE226UFj"
      },
      "outputs": [],
      "source": [
        "class MoneyModel(mesa.Model):\n",
        "    \"\"\"A model with some number of agents.\"\"\"\n",
        "\n",
        "    def __init__(self, n, seed=None):\n",
        "        super().__init__(seed=seed)\n",
        "        self.num_agents = n\n",
        "        # Create agents\n",
        "        MoneyAgent.create_agents(model=self, n=n)"
      ]
    },
    {
      "cell_type": "markdown",
      "metadata": {
        "id": "Sffuft2h6UFj"
      },
      "source": [
        "### Making the Agents `do`\n",
        "\n",
        "With the basics of the Agent class and Model class created we can now activate the agents to `do` things\n",
        "\n",
        "**Background:** Mesa's `do` function calls agent functions to grow your ABM. A step is the smallest unit of time in the model, and is often referred to as a tick. The `do` function and Python functionality can be configured to activate agents in different orders. This can be important as the order in which agents are activated can impact the results of the model [Comer2014]. At each step of the model, one or more of the agents -- usually all of them -- are activated and take their own step, changing internally and/or interacting with one another or the environment.\n",
        "\n",
        "**Model-specific information:** For this section we will randomly reorder the Agent activation order using  `mesa.Agent.shuffle_do` and have the agents `step` function print the agent's unique id that they were assigned during the agent creation process.\n",
        "\n",
        "**Code implementation:** Using standard ABM convention we add a `step` function to the `MoneyModel` class which calls the `mesa.Agent.shuffle_do` function. We then pass into `shuffle_do` the parameter \"step\". This tells mesa to look for and execute the `step` function in our MoneyAgent class.  "
      ]
    },
    {
      "cell_type": "code",
      "execution_count": null,
      "metadata": {
        "id": "O2-GpwoF6UFj"
      },
      "outputs": [],
      "source": [
        "class MoneyAgent(mesa.Agent):\n",
        "    \"\"\"An agent with fixed initial wealth.\"\"\"\n",
        "\n",
        "    def __init__(self, model):\n",
        "        # Pass the parameters to the parent class.\n",
        "        super().__init__(model)\n",
        "\n",
        "        # Create the agent's attribute and set the initial values.\n",
        "        self.wealth = 1\n",
        "\n",
        "    def say_hi(self):\n",
        "        # The agent's step will go here.\n",
        "        # For demonstration purposes we will print the agent's unique_id\n",
        "        print(f\"Hi, I am an agent, you can call me {str(self.unique_id)}.\")\n",
        "\n",
        "\n",
        "class MoneyModel(mesa.Model):\n",
        "    \"\"\"A model with some number of agents.\"\"\"\n",
        "\n",
        "    def __init__(self, n, seed=None):\n",
        "        super().__init__(seed=seed)\n",
        "        self.num_agents = n\n",
        "\n",
        "        # Create n agents\n",
        "        MoneyAgent.create_agents(model=self, n=n)\n",
        "\n",
        "    def step(self):\n",
        "        \"\"\"Advance the model by one step.\"\"\"\n",
        "\n",
        "        # This function psuedo-randomly reorders the list of agent objects and\n",
        "        # then iterates through calling the function passed in as the parameter\n",
        "        self.agents.shuffle_do(\"say_hi\")"
      ]
    },
    {
      "cell_type": "markdown",
      "metadata": {
        "id": "SYQzT7FF6UFj"
      },
      "source": [
        "### Running the Model\n",
        "A basic model has now been created. The model can be run by creating a model object and calling the step method. The model will run for one step and print the unique_id of each agent. You may run the model for multiple steps by calling the step method multiple times.\n",
        "\n",
        "note: If you are using `.py` (script) files instead of `.ipynb` (Jupyter), the common convention is\n",
        "to have a `run.py` in the same directory as your model code. You then (1) import the ``MoneyModel`` class,\n",
        "(2) create a model object and (3) run it for a few steps. As shown below:\n",
        "\n",
        "```python\n",
        "from money_model import MoneyModel\n",
        "\n",
        "starter_model = MoneyModel(10)\n",
        "starter_model.step()\n",
        "```\n",
        "Create the model object, and run it for one step:"
      ]
    },
    {
      "cell_type": "code",
      "execution_count": null,
      "metadata": {
        "id": "Vx7m6Xw36UFj"
      },
      "outputs": [],
      "source": [
        "starter_model = MoneyModel(10)\n",
        "starter_model.step()"
      ]
    },
    {
      "cell_type": "code",
      "execution_count": null,
      "metadata": {
        "id": "f8V-d4fO6UFj",
        "jupyter": {
          "outputs_hidden": false
        }
      },
      "outputs": [],
      "source": [
        "# Run this step a few times and see what happens! notice the order of the agents changes each time.\n",
        "starter_model.step()"
      ]
    },
    {
      "cell_type": "code",
      "execution_count": null,
      "metadata": {
        "id": "hvULwleF6UFj"
      },
      "outputs": [],
      "source": [
        "# Challenge: Change the seed from None to a number like 42 and see the impact"
      ]
    },
    {
      "cell_type": "code",
      "execution_count": null,
      "metadata": {
        "id": "m4O9LZl26UFj"
      },
      "outputs": [],
      "source": [
        "# Challenge: Change `shuffle_do` to just `do` and see the impact"
      ]
    },
    {
      "cell_type": "markdown",
      "metadata": {
        "id": "VG1oY5wg6UFk"
      },
      "source": [
        "### Exercise\n",
        "Modifying the code below to have every agent print out its `wealth` when it is activated."
      ]
    },
    {
      "cell_type": "code",
      "execution_count": null,
      "metadata": {
        "id": "cbZ7noro6UFk",
        "jupyter": {
          "outputs_hidden": false
        }
      },
      "outputs": [],
      "source": [
        "class MoneyAgent(mesa.Agent):\n",
        "    \"\"\"An agent with fixed initial wealth.\"\"\"\n",
        "\n",
        "    def __init__(self, model):\n",
        "        # Pass the parameters to the parent class.\n",
        "        super().__init__(model)\n",
        "\n",
        "        # Create the agent's variable and set the initial values.\n",
        "        self.wealth = 1\n",
        "\n",
        "    def say_wealth(self):\n",
        "        # The agent's step will go here.\n",
        "        # FIXME: need to print the agent's wealth\n",
        "        #print(f\"Hi, I am an agent and I am broke!\")\n",
        "        print(f\"Hi, I am agent {self.unique_id}, and I have {self.wealth} wealth.\")"
      ]
    },
    {
      "cell_type": "markdown",
      "metadata": {
        "id": "zaVItJuP6UFk"
      },
      "source": [
        "Create a model for 12 Agents, and run it for a few steps to see the output."
      ]
    },
    {
      "cell_type": "code",
      "execution_count": null,
      "metadata": {
        "id": "upBAUnwu6UFk",
        "jupyter": {
          "outputs_hidden": false
        }
      },
      "outputs": [],
      "source": [
        "# Fixme: Create the model object, and run it\n",
        "\n",
        "class MoneyModel(mesa.Model):\n",
        "    \"\"\"A model with some number of agents.\"\"\"\n",
        "\n",
        "    def __init__(self, n, seed=None):\n",
        "        super().__init__(seed=seed)\n",
        "        self.num_agents = n\n",
        "\n",
        "        # Create n agents\n",
        "        MoneyAgent.create_agents(model=self, n=n)\n",
        "\n",
        "    def step(self):\n",
        "        \"\"\"Advance the model by one step.\"\"\"\n",
        "\n",
        "        # This function psuedo-randomly reorders the list of agent objects and\n",
        "        # then iterates through calling the function passed in as the parameter\n",
        "        self.agents.shuffle_do(\"say_wealth\")\n"
      ]
    },
    {
      "cell_type": "code",
      "execution_count": null,
      "metadata": {},
      "outputs": [],
      "source": [
        "new_model = MoneyModel(12)\n",
        "new_model.step()"
      ]
    },
    {
      "cell_type": "code",
      "execution_count": null,
      "metadata": {},
      "outputs": [],
      "source": [
        "new_model.step()"
      ]
    },
    {
      "cell_type": "markdown",
      "metadata": {
        "id": "dmuQBVg96UFk"
      },
      "source": [
        "### Agents Exchange\n",
        "\n",
        "Returning back to the MoneyAgent the actual exchange process is now going to be created.\n",
        "\n",
        "**Background:** This is where the agent's behavior as it relates to each step or tick of the model is defined.\n",
        "\n",
        "**Model-specific information:** In this case, the agent will check its wealth, and if it has money, give one unit of it away to another random agent.\n",
        "\n",
        "**Code implementation:** The agent's step method is called by `mesa.Agent.shuffle_do(\"exchange\")`during each step of the model. To allow the agent to choose another agent at random, we use the `model.random` random-number generator. This works just like Python's `random` module, but if a fixed seed set is set when the model is instantiated (see earlier challenge), this allows users to replicate a specific model run later. Once we identify this other agent object we increase their wealth by 1 and decrease this agents wealth by one.\n",
        "\n",
        "This updates the step function as shown below"
      ]
    },
    {
      "cell_type": "code",
      "execution_count": null,
      "metadata": {
        "id": "s2bx4YsD6UFk"
      },
      "outputs": [],
      "source": [
        "class MoneyAgent(mesa.Agent):\n",
        "    \"\"\"An agent with fixed initial wealth.\"\"\"\n",
        "\n",
        "    def __init__(self, model):\n",
        "        # Pass the parameters to the parent class.\n",
        "        super().__init__(model)\n",
        "\n",
        "        # Create the agent's variable and set the initial values.\n",
        "        self.wealth = 1\n",
        "\n",
        "    def exchange(self):\n",
        "        # Verify agent has some wealth\n",
        "        if self.wealth > 0:\n",
        "            other_agent = self.random.choice(self.model.agents)\n",
        "            if other_agent is not None:\n",
        "                other_agent.wealth += 1\n",
        "                self.wealth -= 1\n",
        "\n",
        "\n",
        "class MoneyModel(mesa.Model):\n",
        "    \"\"\"A model with some number of agents.\"\"\"\n",
        "\n",
        "    def __init__(self, n):\n",
        "        super().__init__()\n",
        "        self.num_agents = n\n",
        "\n",
        "        # Create agents\n",
        "        MoneyAgent.create_agents(model=self, n=n)\n",
        "\n",
        "    def step(self):\n",
        "        \"\"\"Advance the model by one step.\"\"\"\n",
        "\n",
        "        # This function psuedo-randomly reorders the list of agent objects and\n",
        "        # then iterates through calling the function passed in as the parameter\n",
        "        self.agents.shuffle_do(\"exchange\")"
      ]
    },
    {
      "cell_type": "markdown",
      "metadata": {
        "id": "7yw9Z1ps6UFk"
      },
      "source": [
        "### Running your first model\n",
        "\n",
        "With that last piece in hand, it's time for the first rudimentary run of the model.\n",
        "\n",
        "If you've written the code in its own script file (`money_model.py` or a different name) you can now modify your ``run.py`` or even launch a Jupyter notebook. You then just follow the same three steps of (1) import your model class ``MoneyModel``, (2) create the model object and (3) run it for a few steps. If you wrote the code in one notebook then step 1, importing, is not necessary.\n",
        "\n",
        "```python\n",
        "from money_model import MoneyModel\n",
        "```\n",
        "\n",
        "now let's create a model with 10 agents, and run it for 30 steps."
      ]
    },
    {
      "cell_type": "code",
      "execution_count": null,
      "metadata": {
        "id": "q4ifywdl6UFk"
      },
      "outputs": [],
      "source": [
        "model = MoneyModel(10)  # Tells the model to create 10 agents\n",
        "for _ in range(\n",
        "    30\n",
        "):  # Runs the model for 10 steps; an underscore is common convention for a variable that is not used\n",
        "    model.step()"
      ]
    },
    {
      "cell_type": "markdown",
      "metadata": {
        "id": "-YNsXnFS6UFk"
      },
      "source": [
        "next, we need to get some data out of the model. Specifically, we want to see the distribution of the agent's wealth. We can get the wealth values with list comprehension, and then use seaborn (or another graphics library) to visualize the data in a histogram."
      ]
    },
    {
      "cell_type": "code",
      "execution_count": null,
      "metadata": {
        "id": "UiF-Cf_R6UFl"
      },
      "outputs": [],
      "source": [
        "agent_wealth = [a.wealth for a in model.agents]\n",
        "# Create a histogram with seaborn\n",
        "g = sns.histplot(agent_wealth, discrete=True)\n",
        "g.set(\n",
        "    title=\"Wealth distribution\", xlabel=\"Wealth\", ylabel=\"number of agents\"\n",
        ");  # The semicolon is just to avoid printing the object representation"
      ]
    },
    {
      "cell_type": "markdown",
      "metadata": {
        "id": "ptCOkGMM6UFl"
      },
      "source": [
        "To get a better idea of how a model behaves, we can create multiple model runs and see the distribution that emerges from all of them. We can do this with a nested for loop:"
      ]
    },
    {
      "cell_type": "code",
      "execution_count": null,
      "metadata": {
        "id": "PB8Qb88S6UFl"
      },
      "outputs": [],
      "source": [
        "all_wealth = []\n",
        "# This runs the model 100 times, each model executing 10 steps.\n",
        "for _ in range(100):\n",
        "    # Run the model\n",
        "    model = MoneyModel(10)\n",
        "    for _ in range(30):\n",
        "        model.step()\n",
        "\n",
        "    # Store the results\n",
        "    for agent in model.agents:\n",
        "        all_wealth.append(agent.wealth)\n",
        "\n",
        "# Use seaborn\n",
        "g = sns.histplot(all_wealth, discrete=True)\n",
        "g.set(title=\"Wealth distribution\", xlabel=\"Wealth\", ylabel=\"number of agents\");"
      ]
    },
    {
      "cell_type": "markdown",
      "metadata": {
        "id": "swOn9MM96UFl"
      },
      "source": [
        "This runs 100 instantiations of the model, and runs each for 30 steps. (notice that we set the histogram bins to be integers, since agents can only have whole numbers of wealth). This distribution looks a lot smoother. By running the model 100 times, we smooth out some of the 'noise' of randomness, and get to the model's overall expected behavior.\n",
        "\n",
        "This outcome might be surprising. Despite the fact that all agents, on average, give and receive one unit of money every step, the model converges to a state where most agents have a small amount of money and a small number have a lot of money."
      ]
    },
    {
      "cell_type": "markdown",
      "metadata": {
        "id": "5N0rdEs36UFl"
      },
      "source": [
        "## Adding space\n",
        "\n",
        "**Background:** Many ABMs have a spatial element, with agents moving around and interacting with nearby neighbors. Mesa has several types of [spaces](https://mesa.readthedocs.io/latest/apis/space.html) from different types of grids to networks to an in development [cell_space](https://mesa.readthedocs.io/latest/apis/experimental.html#module-experimental.cell_space.__init__). Mesa grids are divided into cells, and agents can only be on a particular cell, like pieces on a chess board. Continuous space, in contrast, allows agents to have any arbitrary position. (Think of grids vs continuous space like the difference between integers and decimals).\n",
        "\n",
        "Both grids and continuous spaces are frequently [toroidal](https://en.wikipedia.org/wiki/Toroidal_graph), meaning that the edges wrap around, with cells on the right edge connected to those on the left edge, and the top to the bottom. This prevents some cells having fewer neighbors than others, or agents being able to go off the edge of the environment. You can envision a torous by thinking of donut.\n",
        "\n",
        "Mesa has two main types of grids: `SingleGrid` and `MultiGrid`. `SingleGrid` enforces at most one agent per cell; `MultiGrid` allows multiple agents to be in the same cell. We are going to use `MultiGrid` and then only exchange money with agents in the same cell.\n",
        "\n",
        "**Model-specific information:** Let's add a simple spatial element to our model by putting our agents on a grid and make them walk around at random. Instead of giving their unit of money to any random agent, they'll give it to an agent on the same cell. For the Money model multiple agents can be in the same spaces and since they are on a torus the agents on the left side can exchange money with agent on the right. Agents on the top can exchange with agents on the bottom.\n",
        "\n",
        "**Code Implementation:** We get a random integer within the width and height of the grid space and the use Mesa's multigrid `place_agent` function to place the agent in the specified grid location."
      ]
    },
    {
      "cell_type": "markdown",
      "metadata": {
        "id": "pXnAV_7b6UFl"
      },
      "source": [
        "We instantiate a grid with width and height parameters, and a boolean as to whether the grid is toroidal. Let's make width and height model parameters, in addition to the number of agents, and have the grid always be toroidal. We can place agents on a grid with the grid's `place_agent` method, which takes an agent and an (x, y) tuple of the coordinates to place the agent."
      ]
    },
    {
      "cell_type": "code",
      "execution_count": null,
      "metadata": {
        "id": "eNKPpcIU6UFl"
      },
      "outputs": [],
      "source": [
        "class MoneyModel(mesa.Model):\n",
        "    \"\"\"A model with some number of agents.\"\"\"\n",
        "\n",
        "    def __init__(self, n, width, height, seed=None):\n",
        "        super().__init__(seed=seed)\n",
        "        self.num_agents = n\n",
        "        self.grid = mesa.space.MultiGrid(width, height, True)\n",
        "\n",
        "        # Create agents\n",
        "        agents = MoneyAgent.create_agents(model=self, n=n)\n",
        "        # Create x and y positions for agents\n",
        "        x = self.rng.integers(0, self.grid.width, size=(n,))\n",
        "        y = self.rng.integers(0, self.grid.height, size=(n,))\n",
        "        for a, i, j in zip(agents, x, y):\n",
        "            # Add the agent to a random grid cell\n",
        "            self.grid.place_agent(a, (i, j))"
      ]
    },
    {
      "cell_type": "markdown",
      "metadata": {
        "id": "GPaQSBK76UFl"
      },
      "source": [
        "#### Moving in Mesa\n",
        "\n",
        "Under the hood, each agent's position is stored in two ways: the agent is contained in the grid in the cell it is currently in, and the agent has a `pos` variable with an (x, y) coordinate tuple. The `place_agent` method adds the coordinate to the agent automatically.\n",
        "\n",
        "Now we need to add to the agents' behaviors, letting them move around and only give money to other agents in the same cell.\n",
        "\n",
        "First let's handle movement, and have the agents move to a neighboring cell. The grid object provides a `move_agent` method, which like you'd imagine, moves an agent to a given cell. That still leaves us to get the possible neighboring cells to move to. There are a couple ways to do this. One is to use the current coordinates, and loop over all coordinates +/- 1 away from it. For example:\n",
        "\n",
        "```python\n",
        "neighbors = []\n",
        "x, y = self.pos\n",
        "for dx in [-1, 0, 1]:\n",
        "    for dy in [-1, 0, 1]:\n",
        "        neighbors.append((x+dx, y+dy))\n",
        "```\n",
        "\n",
        "But there's an even simpler way, using the grid's built-in `get_neighborhood` method, which returns all the neighbors of a given cell. This method can get two types of cell neighborhoods: [Moore](https://en.wikipedia.org/wiki/Moore_neighborhood) (includes all 8 surrounding squares), and [Von neumann](https://en.wikipedia.org/wiki/Von_neumann_neighborhood)(only up/down/left/right). It also needs an argument as to whether to include the center cell itself as one of the neighbors.\n",
        "\n",
        "With that in mind, the agent's `move` method looks like this:\n",
        "\n",
        "```python\n",
        "class MoneyAgent(mesa.Agent):\n",
        "   #...\n",
        "    def move(self):\n",
        "        possible_steps = self.model.grid.get_neighborhood(\n",
        "            self.pos,\n",
        "            moore=True,\n",
        "            include_center=False)\n",
        "        new_position = self.random.choice(possible_steps)\n",
        "        self.model.grid.move_agent(self, new_position)\n",
        "```\n",
        "\n",
        "Next, we need to get all the other agents present in a cell, and give one of them some money. We can get the contents of one or more cells using the grid's `get_cell_list_contents` method, or by accessing a cell directly. The method accepts a list of cell coordinate tuples, or a single tuple if we only care about one cell.\n",
        "\n",
        "```python\n",
        "class MoneyAgent(mesa.Agent):\n",
        "    #...\n",
        "    def give_money(self):\n",
        "        cellmates = self.model.grid.get_cell_list_contents([self.pos])\n",
        "        # Ensure agent is not giving money to itself\n",
        "        cellmates.pop(\n",
        "            cellmates.index(self)\n",
        "        )\n",
        "        if len(cellmates) > 0:\n",
        "            other = self.random.choice(cellmates)\n",
        "            other.wealth += 1\n",
        "            self.wealth -= 1\n",
        "```\n",
        "\n",
        "Now, putting that all together should look like this:"
      ]
    },
    {
      "cell_type": "code",
      "execution_count": null,
      "metadata": {
        "id": "pUO4H1Mc6UFl"
      },
      "outputs": [],
      "source": [
        "class MoneyAgent(mesa.Agent):\n",
        "    \"\"\"An agent with fixed initial wealth.\"\"\"\n",
        "\n",
        "    def __init__(self, model):\n",
        "        super().__init__(model)\n",
        "        self.wealth = 1\n",
        "\n",
        "    def move(self):\n",
        "        possible_steps = self.model.grid.get_neighborhood(\n",
        "            self.pos, moore=True, include_center=False\n",
        "        )\n",
        "        new_position = self.random.choice(possible_steps)\n",
        "        self.model.grid.move_agent(self, new_position)\n",
        "\n",
        "    def give_money(self):\n",
        "        cellmates = self.model.grid.get_cell_list_contents([self.pos])\n",
        "        # Ensure agent is not giving money to itself\n",
        "        cellmates.pop(cellmates.index(self))\n",
        "        if len(cellmates) > 0:\n",
        "            other_agent = self.random.choice(cellmates)\n",
        "            other_agent.wealth += 1\n",
        "            self.wealth -= 1\n",
        "\n",
        "\n",
        "class MoneyModel(mesa.Model):\n",
        "    \"\"\"A model with some number of agents.\"\"\"\n",
        "\n",
        "    def __init__(self, n, width, height, seed=None):\n",
        "        super().__init__(seed=seed)\n",
        "        self.num_agents = n\n",
        "        self.grid = mesa.space.MultiGrid(width, height, True)\n",
        "\n",
        "        # Create agents\n",
        "        agents = MoneyAgent.create_agents(model=self, n=n)\n",
        "        # Create x and y coordinates for agents\n",
        "        x = self.rng.integers(0, self.grid.width, size=(n,))\n",
        "        y = self.rng.integers(0, self.grid.height, size=(n,))\n",
        "        for a, i, j in zip(agents, x, y):\n",
        "            # Add the agent to a random grid cell\n",
        "            self.grid.place_agent(a, (i, j))\n",
        "\n",
        "    def step(self):\n",
        "        self.agents.shuffle_do(\"move\")\n",
        "        self.agents.do(\"give_money\")"
      ]
    },
    {
      "cell_type": "markdown",
      "metadata": {
        "id": "yjPXadzd6UFq"
      },
      "source": [
        "Let's create a model with 100 agents on a 10x10 grid, and run it for 20 steps."
      ]
    },
    {
      "cell_type": "code",
      "execution_count": null,
      "metadata": {
        "id": "N1tTr5Wk6UFr"
      },
      "outputs": [],
      "source": [
        "model = MoneyModel(100, 10, 10)\n",
        "for _ in range(20):\n",
        "    model.step()"
      ]
    },
    {
      "cell_type": "markdown",
      "metadata": {
        "id": "nvpI1nbn6UFr"
      },
      "source": [
        "now let's use seaborn and numpy to visualize the number of agents residing in each cell. To do that, we create a numpy array of the same size as the grid, filled with zeros. Then we use the grid object's `coord_iter()` feature, which lets us loop over every cell in the grid, giving us each cell's positions and contents in turn."
      ]
    },
    {
      "cell_type": "code",
      "execution_count": null,
      "metadata": {
        "id": "D8k4s9HM6UFr"
      },
      "outputs": [],
      "source": [
        "agent_counts = np.zeros((model.grid.width, model.grid.height))\n",
        "for cell_content, (x, y) in model.grid.coord_iter():\n",
        "    agent_count = len(cell_content)\n",
        "    agent_counts[x][y] = agent_count\n",
        "# Plot using seaborn, with a visual size of 5x5\n",
        "g = sns.heatmap(agent_counts, cmap=\"viridis\", annot=True, cbar=False, square=True)\n",
        "g.figure.set_size_inches(5, 5)\n",
        "g.set(title=\"number of agents on each cell of the grid\");"
      ]
    },
    {
      "cell_type": "code",
      "execution_count": null,
      "metadata": {
        "id": "Q4rMDlfU6UFr"
      },
      "outputs": [],
      "source": [
        "# Challenge: Change the size of the grid"
      ]
    },
    {
      "cell_type": "code",
      "execution_count": null,
      "metadata": {
        "id": "ukHmMEoy6UFr"
      },
      "outputs": [],
      "source": [
        "# Challenge: Change from multigrid to grid (only one agent per cell)"
      ]
    },
    {
      "cell_type": "markdown",
      "metadata": {
        "id": "OY90DxkH6UFr"
      },
      "source": [
        "## Collecting Data\n",
        "\n",
        "**Background:** So far, at the end of every model run, we've had to go and write our own code to get the data out of the model. This has two problems: it isn't very efficient, and it only gives us end results. If we wanted to know the wealth of each agent at each step, we'd have to add that to the loop of executing steps, and figure out some way to store the data.\n",
        "\n",
        "Since one of the main goals of agent-based modeling is generating data for analysis, Mesa provides a class which can handle data collection and storage for us and make it easier to analyze.\n",
        "\n",
        "The data collector stores three categories of data:\n",
        " - Model-level variables : Model-level collection functions take a model object as an input. Such as a function that computes a dynamic of the whole model (in this case we will compute a measure of wealth inequality based on all agent's wealth)\n",
        " - Agent-level variables: Agent-level collection functions take an agent object as an input and is typically the state of an agent attributes, in this case wealth.\n",
        " - Tables (which are a catch-all for everything else).\n",
        "\n",
        "**Model-specific information:** We will collect two variables to show Mesa capabilities. At the model level, let's measure the model's [Gini Coefficient](https://en.wikipedia.org/wiki/Gini_coefficient), a measure of wealth inequality. At the agent level, we want to collect every agent's wealth at every step.\n",
        "\n",
        "**Code implementation:**\n",
        "Let's add a DataCollector to the model with [`mesa.DataCollector`](https://github.com/projectmesa/mesa/blob/main/mesa/datacollection.py), and collect the agent's wealth and the gini coefficient at each time step."
      ]
    },
    {
      "cell_type": "code",
      "execution_count": null,
      "metadata": {
        "id": "HP6n2TvT6UFr"
      },
      "outputs": [],
      "source": [
        "def compute_gini(model):\n",
        "    agent_wealths = [agent.wealth for agent in model.agents]\n",
        "    x = sorted(agent_wealths)\n",
        "    n = model.num_agents\n",
        "    B = sum(xi * (n - i) for i, xi in enumerate(x)) / (n * sum(x))\n",
        "    return 1 + (1 / n) - 2 * B\n",
        "\n",
        "\n",
        "class MoneyAgent(mesa.Agent):\n",
        "    \"\"\"An agent with fixed initial wealth.\"\"\"\n",
        "\n",
        "    def __init__(self, model):\n",
        "        super().__init__(model)\n",
        "        self.wealth = 1\n",
        "\n",
        "    def move(self):\n",
        "        possible_steps = self.model.grid.get_neighborhood(\n",
        "            self.pos, moore=True, include_center=False\n",
        "        )\n",
        "        new_position = self.random.choice(possible_steps)\n",
        "        self.model.grid.move_agent(self, new_position)\n",
        "\n",
        "    def give_money(self):\n",
        "        cellmates = self.model.grid.get_cell_list_contents([self.pos])\n",
        "        # Ensure agent is not giving money to itself\n",
        "        cellmates.pop(cellmates.index(self))\n",
        "        if len(cellmates) > 0:\n",
        "            other = self.random.choice(cellmates)\n",
        "            other.wealth += 1\n",
        "            self.wealth -= 1\n",
        "\n",
        "\n",
        "class MoneyModel(mesa.Model):\n",
        "    \"\"\"A model with some number of agents.\"\"\"\n",
        "\n",
        "    def __init__(self, n, width, height):\n",
        "        super().__init__()\n",
        "        self.num_agents = n\n",
        "        # create the space\n",
        "        self.grid = mesa.space.MultiGrid(width, height, True)\n",
        "        # collect the output\n",
        "        self.datacollector = mesa.DataCollector(\n",
        "            model_reporters={\"Gini\": compute_gini}, agent_reporters={\"Wealth\": \"wealth\"}\n",
        "        )\n",
        "\n",
        "        # Create agents\n",
        "        agents = MoneyAgent.create_agents(model=self, n=n)\n",
        "        # Create x and y positions for agents\n",
        "        x = self.rng.integers(0, self.grid.width, size=(n,))\n",
        "        y = self.rng.integers(0, self.grid.height, size=(n,))\n",
        "        for a, i, j in zip(agents, x, y):\n",
        "            # Add the agent to a random grid cell\n",
        "            self.grid.place_agent(a, (i, j))\n",
        "\n",
        "    def step(self):\n",
        "        self.datacollector.collect(self)\n",
        "        self.agents.shuffle_do(\"move\")\n",
        "        self.agents.do(\"give_money\")"
      ]
    },
    {
      "cell_type": "markdown",
      "metadata": {
        "id": "KWFZQSQp6UFt"
      },
      "source": [
        "At every step of the model, the datacollector will collect and store the model-level current Gini coefficient, as well as each agent's wealth, associating each with the current step.\n",
        "\n",
        "We run the model just as we did above. The DataCollector can export the data it has collected as a pandas DataFrame, for easy and interactive analysis."
      ]
    },
    {
      "cell_type": "code",
      "execution_count": null,
      "metadata": {
        "id": "okxiZrYh6UFt"
      },
      "outputs": [],
      "source": [
        "model = MoneyModel(100, 10, 10)\n",
        "for _ in range(100):\n",
        "    model.step()"
      ]
    },
    {
      "cell_type": "markdown",
      "metadata": {
        "id": "ANygbmn16UFt"
      },
      "source": [
        "To get the series of Gini coefficients as a pandas DataFrame:"
      ]
    },
    {
      "cell_type": "markdown",
      "metadata": {
        "id": "emgBn-TO6UFt"
      },
      "source": [
        "### Visualizing a Model Data"
      ]
    },
    {
      "cell_type": "code",
      "execution_count": null,
      "metadata": {
        "id": "MnOQNLFi6UFt"
      },
      "outputs": [],
      "source": [
        "gini = model.datacollector.get_model_vars_dataframe()\n",
        "# Plot the Gini coefficient over time\n",
        "g = sns.lineplot(data=gini)\n",
        "g.set(title=\"Gini Coefficient over Time\", ylabel=\"Gini Coefficient\");"
      ]
    },
    {
      "cell_type": "markdown",
      "metadata": {
        "id": "NQ4yqHQO6UFu"
      },
      "source": [
        "### Visualizing an Agent Data"
      ]
    },
    {
      "cell_type": "markdown",
      "metadata": {
        "id": "RUCL03Kk6UFu"
      },
      "source": [
        "Similarly, we can get the agent-wealth data:"
      ]
    },
    {
      "cell_type": "code",
      "execution_count": null,
      "metadata": {
        "id": "Ifa__ERl6UFu"
      },
      "outputs": [],
      "source": [
        "agent_wealth = model.datacollector.get_agent_vars_dataframe()\n",
        "agent_wealth.head()"
      ]
    },
    {
      "cell_type": "markdown",
      "metadata": {
        "id": "-0Za_Kjn6UFu"
      },
      "source": [
        "You'll see that the DataFrame's index is pairings of model step and agent ID. This is because the data collector stores the data in a dictionary, with the step number as the key, and a dictionary of agent ID and variable value pairs as the value. The data collector then converts this dictionary into a DataFrame, which is why the index is a pair of (model step, agent ID). You can analyze it the way you would any other DataFrame. For example, to get a histogram of agent wealth at the model's end:"
      ]
    },
    {
      "cell_type": "code",
      "execution_count": null,
      "metadata": {
        "id": "_W0-PtSM6UFu"
      },
      "outputs": [],
      "source": [
        "last_step = agent_wealth.index.get_level_values(\"Step\").max()\n",
        "end_wealth = agent_wealth.xs(last_step, level=\"Step\")[\"Wealth\"]\n",
        "# Create a histogram of wealth at the last step\n",
        "g = sns.histplot(end_wealth, discrete=True)\n",
        "g.set(\n",
        "    title=\"Distribution of wealth at the end of simulation\",\n",
        "    xlabel=\"Wealth\",\n",
        "    ylabel=\"number of agents\",\n",
        ");"
      ]
    },
    {
      "cell_type": "markdown",
      "metadata": {
        "id": "_1I_oj3c6UFu"
      },
      "source": [
        "Or to plot the wealth of a given agent (in this example, agent 7):"
      ]
    },
    {
      "cell_type": "code",
      "execution_count": null,
      "metadata": {
        "id": "PhjX2pfL6UFu"
      },
      "outputs": [],
      "source": [
        "# Get the wealth of agent 7 over time\n",
        "one_agent_wealth = agent_wealth.xs(7, level=\"AgentID\")\n",
        "\n",
        "# Plot the wealth of agent 7 over time\n",
        "g = sns.lineplot(data=one_agent_wealth, x=\"Step\", y=\"Wealth\")\n",
        "g.set(title=\"Wealth of agent 7 over time\");"
      ]
    },
    {
      "cell_type": "markdown",
      "metadata": {
        "id": "GHp0q14m6UFu"
      },
      "source": [
        "You can also plot a reporter of multiple agents over time."
      ]
    },
    {
      "cell_type": "code",
      "execution_count": null,
      "metadata": {
        "id": "njfLj_0a6UFv"
      },
      "outputs": [],
      "source": [
        "agent_list = [3, 14, 15]\n",
        "\n",
        "# Get the wealth of multiple agents over time\n",
        "multiple_agents_wealth = agent_wealth[\n",
        "    agent_wealth.index.get_level_values(\"AgentID\").isin(agent_list)\n",
        "]\n",
        "# Plot the wealth of multiple agents over time\n",
        "g = sns.lineplot(data=multiple_agents_wealth, x=\"Step\", y=\"Wealth\", hue=\"AgentID\")\n",
        "g.set(title=\"Wealth of agents 3, 14 and 15 over time\");"
      ]
    },
    {
      "cell_type": "markdown",
      "metadata": {
        "id": "tEGcOoSM6UFv"
      },
      "source": [
        "## AgentSet Functionality\n",
        "\n",
        "**Background:** With Mesa's AgentSet approach users can also [manage agents](https://mesa.readthedocs.io/latest/overview.html#agentset-and-model-agents) in several ways.\n",
        "\n",
        "**Model-specific information:** We will show three agent management techniques just to demonstrate the capability\n",
        "1. **Applying Methods** We will shuffle the agents and move them and then have them exchange money without reordering them\n",
        "2. **Selecting** We will institute a policy that has the rich agents give money to the  poor agents\n",
        "3. **GroupBy** We will group agents together based on wealth"
      ]
    },
    {
      "cell_type": "markdown",
      "metadata": {
        "id": "sN5C4Eo66UFv"
      },
      "source": [
        "### Applying Methods\n",
        "\n",
        "**Code Implementation** In this variation we accomplish the same process using the AgentSet features. We remove the step function entirely, shuffle the agent order have them execute the `move` function. Then we have them execute the `give_money` function to get a similar result as we saw in the Adding Space Section."
      ]
    },
    {
      "cell_type": "code",
      "execution_count": null,
      "metadata": {
        "id": "_KpAG6NR6UFv"
      },
      "outputs": [],
      "source": [
        "class MoneyAgent(mesa.Agent):\n",
        "    \"\"\"An agent with fixed initial wealth.\"\"\"\n",
        "\n",
        "    def __init__(self, model):\n",
        "        super().__init__(model)\n",
        "        self.wealth = 1\n",
        "\n",
        "    def move(self):\n",
        "        possible_steps = self.model.grid.get_neighborhood(\n",
        "            self.pos, moore=True, include_center=False\n",
        "        )\n",
        "        new_position = self.random.choice(possible_steps)\n",
        "        self.model.grid.move_agent(self, new_position)\n",
        "\n",
        "    def give_money(self):\n",
        "        if self.wealth > 0:\n",
        "            cellmates = self.model.grid.get_cell_list_contents([self.pos])\n",
        "            # Ensure agent is not giving money to itself\n",
        "            cellmates.pop(cellmates.index(self))\n",
        "            if len(cellmates) > 0:\n",
        "                other_agent = self.random.choice(cellmates)\n",
        "                other_agent.wealth += 1\n",
        "                self.wealth -= 1\n",
        "\n",
        "\n",
        "class MoneyModel(mesa.Model):\n",
        "    \"\"\"A model with some number of agents.\"\"\"\n",
        "\n",
        "    def __init__(self, n, width, height, seed=None):\n",
        "        super().__init__(seed=seed)\n",
        "        self.num_agents = n\n",
        "        self.grid = mesa.space.MultiGrid(width, height, True)\n",
        "\n",
        "        # Create agents\n",
        "        agents = MoneyAgent.create_agents(model=self, n=n)\n",
        "        # Create x and y positions for agents\n",
        "        x = self.rng.integers(0, self.grid.width, size=(n,))\n",
        "        y = self.rng.integers(0, self.grid.height, size=(n,))\n",
        "        for a, i, j in zip(agents, x, y):\n",
        "            # Add the agent to a random grid cell\n",
        "            self.grid.place_agent(a, (i, j))\n",
        "\n",
        "        self.datacollector = mesa.DataCollector(\n",
        "            model_reporters={\"Gini\": compute_gini}, agent_reporters={\"Wealth\": \"wealth\"}\n",
        "        )\n",
        "\n",
        "    def step(self):\n",
        "        self.datacollector.collect(self)\n",
        "        self.agents.shuffle_do(\"move\")\n",
        "        self.agents.do(\"give_money\")"
      ]
    },
    {
      "cell_type": "markdown",
      "metadata": {
        "id": "uG28Jn376UFv"
      },
      "source": [
        "Then we set up our model object and run it for 20 steps"
      ]
    },
    {
      "cell_type": "code",
      "execution_count": null,
      "metadata": {
        "id": "WQqDo5Cc6UFw"
      },
      "outputs": [],
      "source": [
        "model = MoneyModel(100, 10, 10)\n",
        "for _ in range(20):\n",
        "    model.step()"
      ]
    },
    {
      "cell_type": "markdown",
      "metadata": {
        "id": "IuIVbUiu6UFw"
      },
      "source": [
        "Then we plot our model result on the grid"
      ]
    },
    {
      "cell_type": "code",
      "execution_count": null,
      "metadata": {
        "id": "gRWF0uEc6UFw"
      },
      "outputs": [],
      "source": [
        "agent_counts = np.zeros((model.grid.width, model.grid.height))\n",
        "for cell_content, (x, y) in model.grid.coord_iter():\n",
        "    agent_count = len(cell_content)\n",
        "    agent_counts[x][y] = agent_count\n",
        "# Plot using seaborn, with a visual size of 5x5\n",
        "g = sns.heatmap(agent_counts, cmap=\"viridis\", annot=True, cbar=False, square=True)\n",
        "g.figure.set_size_inches(5, 5)\n",
        "g.set(title=\"Number of agents on each cell of the grid\");"
      ]
    },
    {
      "cell_type": "markdown",
      "metadata": {
        "id": "k74tgM266UFw"
      },
      "source": [
        "### Selecting\n",
        "\n",
        "**Model-specific Information:** For this variation of the model we are going to institute a policy that rich agents give money to poor agent\n",
        "\n",
        "**Code Implementation:** We will use `agents.select` to separate the agents into rich and poor agents. If there are rich agents then they are the only ones who give money."
      ]
    },
    {
      "cell_type": "code",
      "execution_count": null,
      "metadata": {
        "id": "amQMjy706UFw"
      },
      "outputs": [],
      "source": [
        "class MoneyAgent(mesa.Agent):\n",
        "    \"\"\"An agent with fixed initial wealth.\"\"\"\n",
        "\n",
        "    def __init__(self, model):\n",
        "        super().__init__(model)\n",
        "        self.wealth = 1\n",
        "\n",
        "    def give_money(self, poor_agents):\n",
        "        if self.wealth > 0:\n",
        "            other_agent = self.random.choice(poor_agents)\n",
        "            other_agent.wealth += 1\n",
        "            self.wealth -= 1\n",
        "\n",
        "\n",
        "class MoneyModel(mesa.Model):\n",
        "    \"\"\"A model with some number of agents.\"\"\"\n",
        "\n",
        "    def __init__(self, n):\n",
        "        super().__init__()\n",
        "        self.num_agents = n\n",
        "\n",
        "        # Create agents\n",
        "        MoneyAgent.create_agents(model=self, n=n)\n",
        "\n",
        "        self.datacollector = mesa.DataCollector(\n",
        "            model_reporters={\"Gini\": compute_gini}, agent_reporters={\"Wealth\": \"wealth\"}\n",
        "        )\n",
        "\n",
        "    def step(self):\n",
        "        self.datacollector.collect(self)\n",
        "        # Get lists of rich and poor agents\n",
        "        rich_agents = model.agents.select(lambda a: a.wealth >= 3)\n",
        "        poor_agents = model.agents.select(lambda a: a.wealth < 3)\n",
        "        # When there is rich agents only have them give money to the poor agents\n",
        "        if len(rich_agents) > 0:\n",
        "            rich_agents.shuffle_do(\"give_money\", poor_agents)\n",
        "        else:\n",
        "            poor_agents.shuffle_do(\"give_money\", poor_agents)"
      ]
    },
    {
      "cell_type": "markdown",
      "metadata": {
        "id": "y6CagBzG6UFw"
      },
      "source": [
        "We now run the model, collect the data, and plot the results."
      ]
    },
    {
      "cell_type": "code",
      "execution_count": null,
      "metadata": {
        "id": "yhZkSpVl6UFw"
      },
      "outputs": [],
      "source": [
        "model = MoneyModel(100)\n",
        "for _ in range(20):\n",
        "    model.step()\n",
        "\n",
        "\n",
        "data = model.datacollector.get_agent_vars_dataframe()\n",
        "# Use seaborn\n",
        "g = sns.histplot(data[\"Wealth\"], discrete=True)\n",
        "g.set(title=\"Wealth distribution\", xlabel=\"Wealth\", ylabel=\"number of agents\");"
      ]
    },
    {
      "cell_type": "markdown",
      "metadata": {
        "id": "3wbtZC0h6UFw"
      },
      "source": [
        "### Group By\n",
        "\n",
        "**Model-specific implementation:** In this case we will give agents an attribute of enthnicity of Green, Blue or Mixed. Green and Blue agents only give money to their ethnicity while Mixed can give money to anyone.\n",
        "\n",
        "**Code Implementation**: Using `groupby` we will execute the above logic in our code by passing a list of grouped agents into our `give_money` function.  To ensure we can plot wealth by group we also need to add ethnicity to our datacollector."
      ]
    },
    {
      "cell_type": "code",
      "execution_count": null,
      "metadata": {
        "id": "bXjoP-c16UFw"
      },
      "outputs": [],
      "source": [
        "class MoneyAgent(mesa.Agent):\n",
        "    \"\"\"An agent with fixed initial wealth.\"\"\"\n",
        "\n",
        "    def __init__(self, model, ethnicity):\n",
        "        super().__init__(model)\n",
        "        self.wealth = 1\n",
        "        self.ethnicity = ethnicity\n",
        "\n",
        "    def give_money(self, similars):\n",
        "        if self.wealth > 0:\n",
        "            other_agent = self.random.choice(similars)\n",
        "            other_agent.wealth += 1\n",
        "            self.wealth -= 1\n",
        "\n",
        "\n",
        "class MoneyModel(mesa.Model):\n",
        "    \"\"\"A model with some number of agents.\"\"\"\n",
        "\n",
        "    def __init__(self, n):\n",
        "        super().__init__()\n",
        "        self.num_agents = n\n",
        "\n",
        "        # Create a list of our different ethnicities\n",
        "        ethnicities = [\"Green\", \"Blue\", \"Mixed\"]\n",
        "\n",
        "        # Create agents\n",
        "        MoneyAgent.create_agents(model=self, n=n, ethnicity=self.random.choices(ethnicities,k=n))\n",
        "\n",
        "        self.datacollector = mesa.DataCollector(\n",
        "            model_reporters={\"Gini\": compute_gini},\n",
        "            agent_reporters={\"Wealth\": \"wealth\", \"Ethnicity\": \"ethnicity\"},\n",
        "        )\n",
        "\n",
        "    def step(self):\n",
        "        self.datacollector.collect(self)\n",
        "        # groupby returns a dictionary of the different ethnicities with a list of agents\n",
        "        grouped_agents = model.agents.groupby(\"ethnicity\")\n",
        "\n",
        "        for ethnic, similars in grouped_agents:\n",
        "            if ethnic != \"Mixed\":\n",
        "                similars.shuffle_do(\"give_money\", similars)\n",
        "            else:\n",
        "                similars.shuffle_do(\n",
        "                    \"give_money\", self.agents\n",
        "                )  # This allows mixed to trade with anyone"
      ]
    },
    {
      "cell_type": "code",
      "execution_count": null,
      "metadata": {
        "id": "x4uMwYGN6UFw"
      },
      "outputs": [],
      "source": [
        "# Run the model\n",
        "model = MoneyModel(100)\n",
        "for _ in range(20):\n",
        "    model.step()\n",
        "\n",
        "# get the data\n",
        "data = model.datacollector.get_agent_vars_dataframe()\n",
        "# assign histogram colors\n",
        "palette = {\"Green\": \"green\", \"Blue\": \"blue\", \"Mixed\": \"purple\"}\n",
        "sns.histplot(data=data, x=\"Wealth\", hue=\"Ethnicity\", discrete=True, palette=palette, alpha=0.5)\n",
        "g.set(title=\"Wealth distribution\", xlabel=\"Wealth\", ylabel=\"number of agents\");"
      ]
    },
    {
      "cell_type": "markdown",
      "metadata": {
        "id": "bxRO7Scu6UFw"
      },
      "source": [
        "## Batch Run\n",
        "\n",
        "Like we mentioned above, you usually won't run a model only once, but multiple times, with fixed parameters to find the overall distributions the model generates, and with varying parameters to analyze how they drive the model's outputs and behaviors. This is commonly referred to as parameter sweeps. Instead of needing to write nested for-loops for each model, Mesa provides a [`batch_run`](https://github.com/projectmesa/mesa/blob/main/mesa/batchrunner.py) function which automates it for you.\n",
        "\n",
        "The batch runner also requires an additional variable `self.running` for the MoneyModel class. This variable enables conditional shut off of the model once a condition is met. In this example it will be set as True indefinitely."
      ]
    },
    {
      "cell_type": "markdown",
      "metadata": {
        "id": "i7LRJ8Cj6UFx"
      },
      "source": [
        "#### Additional agent reporter\n",
        "To make the results a little bit more interesting, we will also calculate the number of consecutive time steps an agent hasn't given any wealth as an agent reporter.\n",
        "\n",
        "This way we can see how data is handled when multiple reporters are used."
      ]
    },
    {
      "cell_type": "code",
      "execution_count": null,
      "metadata": {
        "id": "0EC71-9j6UFx"
      },
      "outputs": [],
      "source": [
        "def compute_gini(model):\n",
        "    agent_wealths = [agent.wealth for agent in model.agents]\n",
        "    x = sorted(agent_wealths)\n",
        "    n = model.num_agents\n",
        "    B = sum(xi * (n - i) for i, xi in enumerate(x)) / (n * sum(x))\n",
        "    return 1 + (1 / n) - 2 * B\n",
        "\n",
        "\n",
        "class MoneyModel(mesa.Model):\n",
        "    \"\"\"A model with some number of agents.\"\"\"\n",
        "\n",
        "    def __init__(self, n, width, height, seed=None):\n",
        "        super().__init__(seed=seed)\n",
        "        self.num_agents = n\n",
        "        self.grid = mesa.space.MultiGrid(width, height, True)\n",
        "        self.running = True\n",
        "\n",
        "        # Create agents\n",
        "        agents = MoneyAgent.create_agents(model=self, n=n)\n",
        "        # Create x and y positions for agents\n",
        "        x = self.rng.integers(0, self.grid.width, size=(n,))\n",
        "        y = self.rng.integers(0, self.grid.height, size=(n,))\n",
        "        for a, i, j in zip(agents, x, y):\n",
        "            # Add the agent to a random grid cell\n",
        "            self.grid.place_agent(a, (i, j))\n",
        "\n",
        "        self.datacollector = mesa.DataCollector(\n",
        "            model_reporters={\"Gini\": compute_gini},\n",
        "            agent_reporters={\"Wealth\": \"wealth\", \"Steps_not_given\": \"steps_not_given\"},\n",
        "        )\n",
        "\n",
        "    def step(self):\n",
        "        self.datacollector.collect(self)\n",
        "        self.agents.shuffle_do(\"move\")\n",
        "        self.agents.shuffle_do(\"give_money\")\n",
        "\n",
        "\n",
        "class MoneyAgent(mesa.Agent):\n",
        "    \"\"\"An agent with fixed initial wealth.\"\"\"\n",
        "\n",
        "    def __init__(self, model):\n",
        "        super().__init__(model)\n",
        "        self.wealth = 1\n",
        "        self.steps_not_given = 0\n",
        "\n",
        "    def move(self):\n",
        "        possible_steps = self.model.grid.get_neighborhood(\n",
        "            self.pos, moore=True, include_center=False\n",
        "        )\n",
        "        new_position = self.random.choice(possible_steps)\n",
        "        self.model.grid.move_agent(self, new_position)\n",
        "\n",
        "    def give_money(self):\n",
        "        cellmates = self.model.grid.get_cell_list_contents([self.pos])\n",
        "        cellmates.pop(cellmates.index(self))\n",
        "        if len(cellmates) > 0 and self.wealth > 0:\n",
        "            other = self.random.choice(cellmates)\n",
        "            other.wealth += 1\n",
        "            self.wealth -= 1\n",
        "            self.steps_not_given = 0\n",
        "        else:\n",
        "            self.steps_not_given += 1"
      ]
    },
    {
      "cell_type": "markdown",
      "metadata": {
        "id": "vA2mO98Z6UFx"
      },
      "source": [
        "#### Batch run parameters\n",
        "\n",
        "We call `batch_run` with the following arguments:\n",
        "\n",
        "* `model_cls`\n",
        "  The model class that is used for the batch run.\n",
        "* `parameters`\n",
        "  A dictionary containing all the parameters of the model class and desired values to use for the batch run as key-value pairs. Each value can either be fixed ( e.g. `{\"height\": 10, \"width\": 10}`) or an iterable (e.g. `{\"n\": range(10, 500, 10)}`). `batch_run` will then generate all possible parameter combinations based on this dictionary and run the model `iterations` times for each combination.\n",
        "* `number_processes`\n",
        "  If not specified, defaults to 1. Set it to `None` to use all the available processors.\n",
        "  Note: Multiprocessing does make debugging challenging. If your parameter sweeps are resulting in unexpected errors set `number_processes=1`.\n",
        "* `iterations`\n",
        "  The number of iterations to run each parameter combination for. Optional. If not specified, defaults to 1.\n",
        "* `data_collection_period`\n",
        "  The length of the period (number of steps) after which the model and agent reporters collect data. Optional. If not specified, defaults to -1, i.e. only at the end of each episode.\n",
        "* `max_steps`\n",
        "  The maximum number of time steps after which the model halts. An episode does either end when `self.running` of the model class is set to `False` or when `model.steps == max_steps` is reached. Optional. If not specified, defaults to 1000.\n",
        "* `display_progress`\n",
        "  Display the batch run progress. Optional. If not specified, defaults to `True`."
      ]
    },
    {
      "cell_type": "markdown",
      "metadata": {
        "id": "hPOEDeyc6UFx"
      },
      "source": [
        "In the following example, we hold the height and width fixed, and vary the number of agents. We tell the batch runner to run 5 instantiations of the model with each number of agents, and to run each for 100 steps.\n",
        "\n",
        "We want to keep track of\n",
        "\n",
        "1. the Gini coefficient value at each time step, and\n",
        "2. the individual agent's wealth development and steps without giving money.\n",
        "\n",
        "**Important:** Since for the latter, changes at each time step might be interesting, we set `data_collection_period=1`. By default, it only collects data at the end of each episode.\n",
        "\n",
        "Note: The total number of runs is 245 (= 49 different populations * 5 iterations per population). However, the resulting list of dictionaries will be of length 6186250 (= 250 average agents per population * 49 different populations * 5 iterations per population * 101 steps per iteration)."
      ]
    },
    {
      "cell_type": "markdown",
      "metadata": {
        "id": "66wpBobO6UFx"
      },
      "source": [
        "**Note for Windows OS users:** If you are running this tutorial in Jupyter, make sure that you set `number_processes = 1` (single process). If `number_processes` is greater than 1, it is less straightforward to set up. For details on how to use multiprocessing on windows, see [multiprocessing's programming guidelines](https://docs.python.org/3/library/multiprocessing.html#multiprocessing-programming)."
      ]
    },
    {
      "cell_type": "code",
      "execution_count": null,
      "metadata": {
        "id": "rcqzRsxx6UFx"
      },
      "outputs": [],
      "source": [
        "params = {\"width\": 10, \"height\": 10, \"n\": range(5, 100, 5)}\n",
        "\n",
        "results = mesa.batch_run(\n",
        "    MoneyModel,\n",
        "    parameters=params,\n",
        "    iterations=5,\n",
        "    max_steps=100,\n",
        "    number_processes=1,\n",
        "    data_collection_period=1,\n",
        "    display_progress=True,\n",
        ")"
      ]
    },
    {
      "cell_type": "markdown",
      "metadata": {
        "id": "jimhEqYg6UFx"
      },
      "source": [
        "To further analyze the return of the `batch_run` function, we convert the list of dictionaries to a Pandas DataFrame and print its keys."
      ]
    },
    {
      "cell_type": "markdown",
      "metadata": {
        "id": "ruLFfJm86UFx"
      },
      "source": [
        "#### Batch Run Analysis and Visualization"
      ]
    },
    {
      "cell_type": "code",
      "execution_count": null,
      "metadata": {
        "id": "11J_TrNM6UFx"
      },
      "outputs": [],
      "source": [
        "results_df = pd.DataFrame(results)\n",
        "print(results_df.keys())"
      ]
    },
    {
      "cell_type": "markdown",
      "metadata": {
        "id": "-OJ5Om5w6UFx"
      },
      "source": [
        "First, we want to take a closer look at how the Gini coefficient at the end of each episode changes as we increase the size of the population. For this, we filter our results to only contain the data of one agent (the Gini coefficient will be the same for the entire population at any time) at the 100th step of each episode and then scatter-plot the values for the Gini coefficient over the the number of agents. Notice there are five values for each population size since we set `iterations=5` when calling the batch run."
      ]
    },
    {
      "cell_type": "code",
      "execution_count": null,
      "metadata": {
        "id": "F6k20Sdm6UFx"
      },
      "outputs": [],
      "source": [
        "# Filter the results to only contain the data of one agent (the Gini coefficient will be the same for the entire population at any time) at the 100th step of each episode\n",
        "results_filtered = results_df[(results_df.AgentID == 1) & (results_df.Step == 100)]\n",
        "results_filtered[[\"iteration\", \"n\", \"Gini\"]].reset_index(\n",
        "    drop=True\n",
        ").head()  # Create a scatter plot\n",
        "g = sns.scatterplot(data=results_filtered, x=\"n\", y=\"Gini\")\n",
        "g.set(\n",
        "    xlabel=\"number of agents\",\n",
        "    ylabel=\"Gini coefficient\",\n",
        "    title=\"Gini coefficient vs. number of agents\",\n",
        ");"
      ]
    },
    {
      "cell_type": "markdown",
      "metadata": {
        "collapsed": false,
        "id": "gDJWEylD6UFy",
        "jupyter": {
          "outputs_hidden": false
        }
      },
      "source": [
        "We can create different kinds of plot from this filtered DataFrame. For example, a point plot with error bars."
      ]
    },
    {
      "cell_type": "code",
      "execution_count": null,
      "metadata": {
        "id": "DBfcEzwd6UFy",
        "jupyter": {
          "outputs_hidden": false
        }
      },
      "outputs": [],
      "source": [
        "# Create a point plot with error bars\n",
        "g = sns.pointplot(data=results_filtered, x=\"n\", y=\"Gini\", linestyle=\"None\")\n",
        "g.figure.set_size_inches(8, 4)\n",
        "g.set(\n",
        "    xlabel=\"number of agents\",\n",
        "    ylabel=\"Gini coefficient\",\n",
        "    title=\"Gini coefficient vs. number of agents\",\n",
        ");"
      ]
    },
    {
      "cell_type": "markdown",
      "metadata": {
        "id": "5AuqPFSQ6UFy"
      },
      "source": [
        "Secondly, we want to display the agent's wealth at each time step of one specific episode. To do this, we again filter our large data frame, this time with a fixed number of agents and only for a specific iteration of that population.\n",
        "To print the results, we convert the filtered data frame to a string specifying the desired columns to print.\n",
        "\n",
        "Pandas has built-in functions to convert to a lot of different data formats. For example, to display as a table in a Jupyter notebook, we can use the `to_html()` function which takes the same arguments as `to_string()` (see commented lines)."
      ]
    },
    {
      "cell_type": "code",
      "execution_count": null,
      "metadata": {
        "id": "MsE9v9tp6UFy"
      },
      "outputs": [],
      "source": [
        "# First, we filter the results\n",
        "one_episode_wealth = results_df[(results_df.n == 10) & (results_df.iteration == 2)]\n",
        "# Then, print the columns of interest of the filtered data frame\n",
        "print(\n",
        "    one_episode_wealth.to_string(\n",
        "        index=False, columns=[\"Step\", \"AgentID\", \"Wealth\"], max_rows=10\n",
        "    )\n",
        ")"
      ]
    },
    {
      "cell_type": "markdown",
      "metadata": {
        "id": "EI59Xg4q6UFy"
      },
      "source": [
        "Lastly, we want to take a look at the development of the Gini coefficient over the course of one iteration. Filtering and printing looks almost the same as above, only this time we choose a different episode."
      ]
    },
    {
      "cell_type": "code",
      "execution_count": null,
      "metadata": {
        "id": "m1JJAxbw6UFy"
      },
      "outputs": [],
      "source": [
        "results_one_episode = results_df[\n",
        "    (results_df.n == 10) & (results_df.iteration == 1) & (results_df.AgentID == 1)\n",
        "]\n",
        "print(results_one_episode.to_string(index=False, columns=[\"Step\", \"Gini\"], max_rows=10))"
      ]
    },
    {
      "cell_type": "markdown",
      "metadata": {
        "collapsed": false,
        "id": "AnhA4MW26UFy",
        "jupyter": {
          "outputs_hidden": false
        }
      },
      "source": [
        "### Analyzing model reporters: Comparing 5 scenarios\n",
        "Other insights might be gathered when we compare the Gini coefficient of different scenarios. For example, we can compare the Gini coefficient of a population with 25 agents to the Gini coefficient of a population with 400 agents. While doing this, we increase the number of iterations to 25 to get a better estimate of the Gini coefficient for each population size and get usable error estimations.\n",
        "\n",
        "As we look varying the parameters to see the impact on model outcomes, it is critical to again point out that users can set the random seed. Due to the often inherent randomness with ABMs the seed becomes crucial for:\n",
        "- **Reproducibility** - Being able to replicate the ABM results\n",
        "- **Sensitivity Analysis** - Identifying how sensitive/robust your model results are to random fluctuations\n",
        "\n",
        "Treating the seed as an additional parameter and running numerous scenarios allows us to see the impact of randomness on this model."
      ]
    },
    {
      "cell_type": "code",
      "execution_count": null,
      "metadata": {
        "id": "g23BiI7e6UFy",
        "jupyter": {
          "outputs_hidden": false
        }
      },
      "outputs": [],
      "source": [
        "params = {\"seed\": None, \"width\": 10, \"height\": 10, \"n\": [5, 10, 20, 40, 80]}\n",
        "\n",
        "results_5s = mesa.batch_run(\n",
        "    MoneyModel,\n",
        "    parameters=params,\n",
        "    iterations=25,\n",
        "    max_steps=100,\n",
        "    number_processes=1,\n",
        "    data_collection_period=1,  # Important, otherwise the datacollector will only collect data of the last time step\n",
        "    display_progress=True,\n",
        ")\n",
        "\n",
        "results_5s_df = pd.DataFrame(results_5s)"
      ]
    },
    {
      "cell_type": "code",
      "execution_count": null,
      "metadata": {
        "id": "dP-p8JqZ6UFy",
        "jupyter": {
          "outputs_hidden": false
        }
      },
      "outputs": [],
      "source": [
        "# Again filter the results to only contain the data of one agent (the Gini coefficient will be the same for the entire population at any time)\n",
        "results_5s_df_filtered = results_5s_df[(results_5s_df.AgentID == 1)]\n",
        "results_5s_df_filtered.head(3)"
      ]
    },
    {
      "cell_type": "code",
      "execution_count": null,
      "metadata": {
        "id": "zpVE8krL6UFy",
        "jupyter": {
          "outputs_hidden": false
        }
      },
      "outputs": [],
      "source": [
        "# Create a lineplot with error bars\n",
        "g = sns.lineplot(\n",
        "    data=results_5s_df,\n",
        "    x=\"Step\",\n",
        "    y=\"Gini\",\n",
        "    hue=\"n\",\n",
        "    errorbar=(\"ci\", 95),\n",
        "    palette=\"tab10\",\n",
        ")\n",
        "g.figure.set_size_inches(8, 4)\n",
        "plot_title = \"Gini coefficient for different population sizes\\n(mean over 100 runs, with 95% confidence interval)\"\n",
        "g.set(title=plot_title, ylabel=\"Gini coefficient\");"
      ]
    },
    {
      "cell_type": "markdown",
      "metadata": {
        "collapsed": false,
        "id": "b2bk8Jes6UFy",
        "jupyter": {
          "outputs_hidden": false
        }
      },
      "source": [
        "In this case it looks like the Gini coefficient increases slower for smaller populations. This can be because of different things, either because the Gini coefficient is a measure of inequality and the smaller the population, the more likely it is that the agents are all in the same wealth class, or because there are less interactions between agents in smaller populations, which means that the wealth of an agent is less likely to change."
      ]
    },
    {
      "cell_type": "markdown",
      "metadata": {
        "collapsed": false,
        "id": "E8zJhyPy6UFz",
        "jupyter": {
          "outputs_hidden": false
        }
      },
      "source": [
        "### Analyzing agent reporters: Comparing 5 scenarios\n",
        "From the agents we collected the wealth and the number of consecutive rounds without a transaction. We can compare the 5 different population sizes by plotting the average number of consecutive rounds without a transaction for each population size.\n",
        "\n",
        "Note that we're aggregating multiple times here: First we take the average of all agents for each single replication. Then we plot the averages for all replications, with the error band showing the 95% confidence interval of that first average (over all agents). So this error band is representing the uncertainty of the mean value of the number of consecutive rounds without a transaction for each population size."
      ]
    },
    {
      "cell_type": "code",
      "execution_count": null,
      "metadata": {
        "id": "9s-ZbH7O6UFz",
        "jupyter": {
          "outputs_hidden": false
        }
      },
      "outputs": [],
      "source": [
        "# Calculate the mean of the wealth and the number of consecutive rounds for all agents in each episode\n",
        "agg_results_df = (\n",
        "    results_5s_df.groupby([\"iteration\", \"n\", \"Step\"])\n",
        "    .agg({\"Wealth\": \"mean\", \"Steps_not_given\": \"mean\"})\n",
        "    .reset_index()\n",
        ")\n",
        "agg_results_df.head(5)"
      ]
    },
    {
      "cell_type": "code",
      "execution_count": null,
      "metadata": {
        "id": "e9iTFRLD6UFz",
        "jupyter": {
          "outputs_hidden": false
        }
      },
      "outputs": [],
      "source": [
        "# Create a line plot with error bars\n",
        "g = sns.lineplot(\n",
        "    data=agg_results_df, x=\"Step\", y=\"Steps_not_given\", hue=\"n\", palette=\"tab10\"\n",
        ")\n",
        "g.figure.set_size_inches(8, 4)\n",
        "g.set(\n",
        "    title=\"Average number of consecutive rounds without a transaction for different population sizes\\n(mean with 95% confidence interval)\",\n",
        "    ylabel=\"Consecutive rounds without a transaction\",\n",
        ");"
      ]
    },
    {
      "cell_type": "markdown",
      "metadata": {
        "collapsed": false,
        "id": "cU9cydDK6UFz",
        "jupyter": {
          "outputs_hidden": false
        }
      },
      "source": [
        "It can be clearly seen that the lower the number of agents, the higher the number of consecutive rounds without a transaction. This is because the agents have fewer interactions with each other and therefore the wealth of an agent is less likely to change."
      ]
    },
    {
      "cell_type": "markdown",
      "metadata": {
        "collapsed": false,
        "id": "zzePV7hh6UFz",
        "jupyter": {
          "outputs_hidden": false
        }
      },
      "source": [
        "### General steps for analyzing results\n",
        "\n",
        "Many other analysis are possible based on the policies, scenarios and uncertainties that you might be interested in. In general, you can follow these steps to do your own analysis:\n",
        "\n",
        "1. Determine which metrics you want to analyse. Add these as model and agent reporters to the datacollector of your model.\n",
        "2. Determine the input parameters you want to vary. Add these as parameters to the batch_run function, using ranges or lists to test different values.\n",
        "3. Determine the hyperparameters of the batch_run function. Define the number of iterations, the number of processes, the number of steps, the data collection period, etc.\n",
        "4. Run the batch_run function and save the results.\n",
        "5. Transform, filter and aggregate the results to get the data you want to analyze. Make sure it's in long format, so that each row represents a single value.\n",
        "6. Choose a plot type, what to plot on the x and y axis, which columns to use for the hue. Seaborn also has an amazing [Example Gallery](https://seaborn.pydata.org/examples/index.html).\n",
        "7. Plot the data and analyze the results."
      ]
    },
    {
      "cell_type": "code",
      "execution_count": null,
      "metadata": {
        "id": "mfRUF8MT6UFz"
      },
      "outputs": [],
      "source": [
        "# Challenge update the model, conduct a batch run with a parameter sweep, and visualize your results"
      ]
    },
    {
      "cell_type": "markdown",
      "metadata": {
        "id": "4gPtcvJG6UFz"
      },
      "source": [
        "[Comer2014] Comer, Kenneth W. “Who Goes First? An Examination of the Impact of Activation on Outcome Behavior in AgentBased Models.” George Mason University, 2014. http://mars.gmu.edu/bitstream/handle/1920/9070/Comer_gmu_0883E_10539.pdf\n",
        "\n",
        "[Dragulescu2002] Drăgulescu, Adrian A., and Victor M. Yakovenko. “Statistical Mechanics of Money, Income, and Wealth: A Short Survey.” arXiv Preprint Cond-mat/0211175, 2002. http://arxiv.org/abs/cond-mat/0211175."
      ]
    },
    {
      "cell_type": "markdown",
      "metadata": {},
      "source": [
        "### Adding visualization\n",
        "\n",
        "So far, we've built a model, run it, and analyzed some output afterwards. However, one of the advantages of agent-based models is that we can often watch them run step by step, potentially spotting unexpected patterns, behaviors or bugs, or developing new intuitions, hypotheses, or insights. Other times, watching a model run can explain it to an unfamiliar audience better than static explanations. Like many ABM frameworks, Mesa allows you to create an interactive visualization of the model. In this section we'll walk through creating a visualization using built-in components, and (for advanced users) how to create a new visualization element.\n",
        "\n",
        "First, a quick explanation of how Mesa's interactive visualization works. The visualization is done in a browser window, using the [Solara](https://solara.dev/) framework, a pure Python, React-style web framework. Running `solara run app.py` will launch a web server, which runs the model, and displays model detail at each step via the Matplotlib plotting library. Alternatively, you can execute everything inside a notebook environment and display it inline."
      ]
    },
    {
      "cell_type": "markdown",
      "metadata": {},
      "source": [
        "#### Grid Visualization\n",
        "\n",
        "To start with, let's have a visualization where we can watch the agents moving around the grid. Let us use the same `MoneyModel` we created earlier, we're going to repeat the code it so have entire model in a single code cell."
      ]
    },
    {
      "cell_type": "code",
      "execution_count": null,
      "metadata": {},
      "outputs": [],
      "source": [
        "def compute_gini(model):\n",
        "    agent_wealths = [agent.wealth for agent in model.agents]\n",
        "    x = sorted(agent_wealths)\n",
        "    N = model.num_agents\n",
        "    B = sum(xi * (N - i) for i, xi in enumerate(x)) / (N * sum(x))\n",
        "    return 1 + (1 / N) - 2 * B\n",
        "\n",
        "\n",
        "class MoneyAgent(mesa.Agent):\n",
        "    \"\"\"An agent with fixed initial wealth.\"\"\"\n",
        "\n",
        "    def __init__(self, model):\n",
        "        \"\"\"initialize a MoneyAgent instance.\n",
        "\n",
        "        Args:\n",
        "            model: A model instance\n",
        "        \"\"\"\n",
        "        super().__init__(model)\n",
        "        self.wealth = 1\n",
        "\n",
        "    def move(self):\n",
        "        \"\"\"move to a random neighboring cell.\"\"\"\n",
        "        possible_steps = self.model.grid.get_neighborhood(\n",
        "            self.pos, moore=True, include_center=False\n",
        "        )\n",
        "        new_position = self.random.choice(possible_steps)\n",
        "        self.model.grid.move_agent(self, new_position)\n",
        "\n",
        "    def give_money(self):\n",
        "        \"\"\"give money to another agent in the same gridcell.\"\"\"\n",
        "        cellmates = self.model.grid.get_cell_list_contents([self.pos])\n",
        "        if len(cellmates) > 1:\n",
        "            other = self.random.choice(cellmates)\n",
        "            other.wealth += 1\n",
        "            self.wealth -= 1\n",
        "\n",
        "    def step(self):\n",
        "        \"\"\"do one step of the agent.\"\"\"\n",
        "        self.move()\n",
        "        if self.wealth > 0:\n",
        "            self.give_money()\n",
        "\n",
        "\n",
        "class MoneyModel(mesa.Model):\n",
        "    \"\"\"A model with some number of agents.\"\"\"\n",
        "\n",
        "    def __init__(self, n=10, width=10, height=10, seed=None):\n",
        "        \"\"\"Initialize a MoneyModel instance.\n",
        "\n",
        "        Args:\n",
        "            N: The number of agents.\n",
        "            width: width of the grid.\n",
        "            height: Height of the grid.\n",
        "        \"\"\"\n",
        "        super().__init__(seed=seed)\n",
        "        self.num_agents = n\n",
        "        self.grid = mesa.space.MultiGrid(width, height, True)\n",
        "\n",
        "        # Create agents\n",
        "        agents = MoneyAgent.create_agents(model=self, n=n)\n",
        "        # Create x and y positions for agents\n",
        "        x = self.rng.integers(0, self.grid.width, size=(n,))\n",
        "        y = self.rng.integers(0, self.grid.height, size=(n,))\n",
        "        for a, i, j in zip(agents, x, y):\n",
        "            # Add the agent to a random grid cell\n",
        "            self.grid.place_agent(a, (i, j))\n",
        "\n",
        "        self.datacollector = mesa.DataCollector(\n",
        "            model_reporters={\"Gini\": compute_gini}, agent_reporters={\"Wealth\": \"wealth\"}\n",
        "        )\n",
        "        self.datacollector.collect(self)\n",
        "\n",
        "    def step(self):\n",
        "        \"\"\"do one step of the model\"\"\"\n",
        "        self.agents.shuffle_do(\"step\")\n",
        "        self.datacollector.collect(self)\n"
      ]
    },
    {
      "cell_type": "markdown",
      "metadata": {},
      "source": [
        "## Part 1 - Dynamic Agent Representation \n",
        "\n",
        "Let's make a visualization so that agents who are broke (wealth 0) are drawn in red, smaller. \n",
        "In addition to size and color, an agent's shape can also be customized when using the default drawer. The allowed values for shapes can be found [here](https://matplotlib.org/stable/api/markers_api.html).\n",
        "\n",
        "Mesa's grid visualizer works by looping over every cell in a grid, and generating a portrayal for every agent it finds. A portrayal is a dictionary (which can easily be turned into a JSON object) which tells Matplotlib the color and size of the scatterplot markers (each signifying an agent). The only thing we need to provide is a function which takes an agent, and returns a portrayal dictionary.\n",
        "\n",
        "To do this, we create our `agent_portrayal` function and add some code to change the portrayal based on the agent properties and launch the server."
      ]
    },
    {
      "cell_type": "code",
      "execution_count": null,
      "metadata": {},
      "outputs": [],
      "source": [
        "from mesa.visualization import SolaraViz, make_plot_component, make_space_component\n",
        "\n",
        "def agent_portrayal(agent):\n",
        "    size = 10\n",
        "    color = \"tab:red\"\n",
        "    if agent.wealth > 0:\n",
        "        size = 50\n",
        "        color = \"tab:blue\"\n",
        "    return {\"size\": size, \"color\": color}\n"
      ]
    },
    {
      "cell_type": "markdown",
      "metadata": {},
      "source": [
        "In addition to the portrayal method, we instantiate the model parameters, some of which are modifiable by user inputs. In this case, the number of agents, N, is specified as a slider of integers."
      ]
    },
    {
      "cell_type": "code",
      "execution_count": null,
      "metadata": {},
      "outputs": [],
      "source": [
        "model_params = {\n",
        "    \"n\": {\n",
        "        \"type\": \"SliderInt\",\n",
        "        \"value\": 50,\n",
        "        \"label\": \"Number of agents:\",\n",
        "        \"min\": 10,\n",
        "        \"max\": 100,\n",
        "        \"step\": 1,\n",
        "    },\n",
        "    \"width\": 10,\n",
        "    \"height\": 10,\n",
        "}"
      ]
    },
    {
      "cell_type": "markdown",
      "metadata": {},
      "source": [
        "Next, we instantiate the visualization object which (by default) displays the grid containing the agents, and timeseries of values computed by the model's data collector. In this example, we specify the Gini coefficient.\n",
        "\n",
        "There are 3 buttons:\n",
        "- the step button, which advances the model by 1 step\n",
        "- the play/stop button, which advances the model indefinitely until it is paused, or until `model.running` is False (you may specify the stopping condition)\n",
        "- the reset button, which resets the model\n",
        "\n",
        "And, There are 3 sliders:\n",
        "- Number of agents\n",
        "- Play Interval (ms)\n",
        "- Render Interval(steps)"
      ]
    },
    {
      "cell_type": "code",
      "execution_count": null,
      "metadata": {},
      "outputs": [],
      "source": [
        "# Create initial model instance\n",
        "money_model = MoneyModel(n=50, width=10, height=10) #keyword arguments\n",
        "\n",
        "SpaceGraph = make_space_component(agent_portrayal)\n",
        "GiniPlot = make_plot_component(\"Gini\")\n",
        "\n",
        "page = SolaraViz(\n",
        "    money_model,\n",
        "    components=[SpaceGraph, GiniPlot],\n",
        "    model_params=model_params,\n",
        "    name=\"Boltzmann Wealth Model\",\n",
        ")\n",
        "# This is required to render the visualization in the Jupyter notebook\n",
        "page"
      ]
    },
    {
      "cell_type": "markdown",
      "metadata": {},
      "source": [
        "## Part 2 - Custom Components \n",
        "\n",
        "Due to the computational cost of running multiple dashboards it is recommended that at the end of each part you restart your kernel and then only run the import cell and the cells in that portion of the part of the tutorial (e.g. Part 2)\n",
        "\n",
        "**Note:** This section is for users who have a basic familiarity with Python's Matplotlib plotting library.\n",
        "\n",
        "If the visualization elements provided by Mesa aren't enough for you, you can build your own and plug them into the model server.\n",
        "\n",
        "For this example, let's build a simple histogram visualization, which can count the number of agents with each value of wealth.\n",
        "\n",
        "**Note:** Due to the way solara works we need to trigger an update whenever the underlying model changes. For this you need to register an update counter with every component."
      ]
    },
    {
      "cell_type": "code",
      "execution_count": null,
      "metadata": {},
      "outputs": [],
      "source": [
        "import solara\n",
        "from mesa.visualization.utils import update_counter\n",
        "from matplotlib.figure import Figure\n",
        "\n",
        "def agent_portrayal(agent):\n",
        "    size = 10\n",
        "    color = \"tab:red\"\n",
        "    if agent.wealth > 0:\n",
        "        size = 50\n",
        "        color = \"tab:blue\"\n",
        "    return {\"size\": size, \"color\": color}\n",
        "\n",
        "model_params = {\n",
        "    \"n\": {\n",
        "        \"type\": \"SliderInt\",\n",
        "        \"value\": 50,\n",
        "        \"label\": \"Number of agents:\",\n",
        "        \"min\": 10,\n",
        "        \"max\": 100,\n",
        "        \"step\": 1,\n",
        "    },\n",
        "    \"width\": 10,\n",
        "    \"height\": 10,\n",
        "}\n",
        "\n",
        "@solara.component\n",
        "def Histogram(model):\n",
        "    update_counter.get() # This is required to update the counter\n",
        "    # Note: you must initialize a figure using this method instead of\n",
        "    # plt.figure(), for thread safety purpose\n",
        "    fig = Figure()\n",
        "    ax = fig.subplots()\n",
        "    wealth_vals = [agent.wealth for agent in model.agents]\n",
        "    # Note: you have to use Matplotlib's OOP API instead of plt.hist\n",
        "    # because plt.hist is not thread-safe.\n",
        "    ax.hist(wealth_vals, bins=10)\n",
        "    solara.FigureMatplotlib(fig)"
      ]
    },
    {
      "cell_type": "code",
      "execution_count": null,
      "metadata": {},
      "outputs": [],
      "source": [
        "# Create initial model instance\n",
        "money_model = MoneyModel(n=50, width=10, height=10)\n",
        "\n",
        "SpaceGraph = make_space_component(agent_portrayal)\n",
        "GiniPlot = make_plot_component(\"Gini\")\n",
        "\n",
        "page = SolaraViz(\n",
        "    money_model,\n",
        "    components=[SpaceGraph, GiniPlot, Histogram],\n",
        "    model_params=model_params,\n",
        "    name=\"Boltzmann Wealth Model\",\n",
        ")\n",
        "# This is required to render the visualization in the Jupyter notebook\n",
        "page"
      ]
    },
    {
      "cell_type": "markdown",
      "metadata": {},
      "source": [
        "You can even run the visuals independently by calling it with the model instance"
      ]
    },
    {
      "cell_type": "code",
      "execution_count": null,
      "metadata": {},
      "outputs": [],
      "source": [
        "Histogram(money_model)"
      ]
    }
  ],
  "metadata": {
    "anaconda-cloud": {},
    "colab": {
      "provenance": []
    },
    "kernelspec": {
      "display_name": "Python 3",
      "language": "python",
      "name": "python3"
    },
    "language_info": {
      "codemirror_mode": {
        "name": "ipython",
        "version": 3
      },
      "file_extension": ".py",
      "mimetype": "text/x-python",
      "name": "python",
      "nbconvert_exporter": "python",
      "pygments_lexer": "ipython3",
      "version": "3.13.2"
    }
  },
  "nbformat": 4,
  "nbformat_minor": 0
}
